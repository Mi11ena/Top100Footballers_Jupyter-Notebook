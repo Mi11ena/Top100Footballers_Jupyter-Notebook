{
 "cells": [
  {
   "cell_type": "markdown",
   "id": "c36e9096",
   "metadata": {},
   "source": [
    "Project description: Find a dataset with text data and analyze it the following way.\n",
    "\n",
    "1) Output descriptive statistics of the dataset: mean, median, standard deviation. Do this for at least 3 numerical fields.\n",
    "Plot at least 3 numerical fields.\n",
    "\n",
    "2) Choose the plot type based on the data. It may make more sense to do a scatter plot, a regular plot, a histogram or something else.\n",
    "\n",
    "3) Do at least 2 comparisons similar to the ones in the Titanic example. \n",
    "\"What are the distributions of column A for different values of column B?\" Output as either numbers or plots.\n",
    "\n",
    "4) Describe your results in 2-3 paragraphs of text. What you can see from the plot, from the statistics and comparisons.\n",
    "\n",
    "5*) For pilot students one of the requirements is to set up a web server using the Flask framework. Web Server interface should be one of the following: end users must be able to get required data using get-requests, html page or telegram-bot.\n",
    "\n",
    "\n",
    "----------------\n",
    "Additional notes:\n",
    "\n",
    "1) Plots for tasks 2 and 3 are counted separately. So, your project has to have at least 5 plots in total.\n",
    "\n",
    "2) Make sure your plots have proper legends, titles, axis titles, so that it’s easy to understand what the graph represents.\n",
    "\n",
    "3) Try to format your project as a sequence of problems you’re solving. What the data looks like, what are some questions you can answer with the data. You should try to make a simple analysis project instead of doing exactly the bare minimum of tasks 1-4."
   ]
  },
  {
   "cell_type": "markdown",
   "id": "37bee9b2",
   "metadata": {},
   "source": [
    "Project description: Find a dataset with text data and analyze it the following way.\n",
    "1) Output descriptive statistics of the dataset: mean, median, standard deviation. Do this for at least 3 numerical fields. Plot at least 3 numerical fields.\n",
    "2) Choose the plot type based on the data. It may make more sense to do a scatter plot, a regular plot, a histogram or something else.\n",
    "3) Do at least 2 comparisons similar to the ones in the Titanic example. \"What are the distributions of column A for different values of column B?\" Output as either numbers or plots.\n",
    "4) Describe your results in 2-3 paragraphs of text. What you can see from the plot, from the statistics and comparisons.\n",
    "5*) For pilot students one of the requirements is to set up a web server using the Flask framework. Web Server interface should be one of the following: end users must be able to get required data using get-requests, html page or telegram-bot.\n",
    "Additional notes:\n",
    "1) Plots for tasks 2 and 3 are counted separately. So, your project has to have at least 5 plots in total.\n",
    "2) Make sure your plots have proper legends, titles, axis titles, so that it’s easy to understand what the graph represents.\n",
    "3) Try to format your project as a sequence of problems you’re solving. What the data looks like, what are some questions you can answer with the data. You should try to make a simple analysis project instead of doing exactly the bare minimum of tasks 1-4."
   ]
  },
  {
   "cell_type": "code",
   "execution_count": 3,
   "id": "5852c0d5",
   "metadata": {},
   "outputs": [],
   "source": [
    "import pandas as pd\n",
    "import numpy as np\n",
    "import matplotlib.pyplot as plt\n",
    "import seaborn as sns\n",
    "%matplotlib inline"
   ]
  },
  {
   "cell_type": "markdown",
   "id": "0fd49637",
   "metadata": {},
   "source": [
    "### My dataset contains information about footballers included in the top 100 best footballers in the world from 2007 to 2020. \n",
    "##### Publication \"Guardian\" has been providing information since 2012, while publication \"FourFourTwo\" since 2007."
   ]
  },
  {
   "cell_type": "code",
   "execution_count": 4,
   "id": "eebc4bde",
   "metadata": {},
   "outputs": [
    {
     "data": {
      "text/html": [
       "<div>\n",
       "<style scoped>\n",
       "    .dataframe tbody tr th:only-of-type {\n",
       "        vertical-align: middle;\n",
       "    }\n",
       "\n",
       "    .dataframe tbody tr th {\n",
       "        vertical-align: top;\n",
       "    }\n",
       "\n",
       "    .dataframe thead th {\n",
       "        text-align: right;\n",
       "    }\n",
       "</style>\n",
       "<table border=\"1\" class=\"dataframe\">\n",
       "  <thead>\n",
       "    <tr style=\"text-align: right;\">\n",
       "      <th></th>\n",
       "      <th>Publication</th>\n",
       "      <th>Player</th>\n",
       "      <th>Club</th>\n",
       "      <th>Year</th>\n",
       "      <th>Rank</th>\n",
       "    </tr>\n",
       "  </thead>\n",
       "  <tbody>\n",
       "    <tr>\n",
       "      <th>0</th>\n",
       "      <td>FourFourTwo</td>\n",
       "      <td>Kevin De Bruyne</td>\n",
       "      <td>Manchester City</td>\n",
       "      <td>2020</td>\n",
       "      <td>1</td>\n",
       "    </tr>\n",
       "    <tr>\n",
       "      <th>1</th>\n",
       "      <td>FourFourTwo</td>\n",
       "      <td>Lionel Messi</td>\n",
       "      <td>Barcelona</td>\n",
       "      <td>2020</td>\n",
       "      <td>2</td>\n",
       "    </tr>\n",
       "    <tr>\n",
       "      <th>2</th>\n",
       "      <td>FourFourTwo</td>\n",
       "      <td>Robert Lewandowski</td>\n",
       "      <td>Bayern Munich</td>\n",
       "      <td>2020</td>\n",
       "      <td>3</td>\n",
       "    </tr>\n",
       "    <tr>\n",
       "      <th>3</th>\n",
       "      <td>FourFourTwo</td>\n",
       "      <td>Neymar</td>\n",
       "      <td>PSG</td>\n",
       "      <td>2020</td>\n",
       "      <td>4</td>\n",
       "    </tr>\n",
       "    <tr>\n",
       "      <th>4</th>\n",
       "      <td>FourFourTwo</td>\n",
       "      <td>Kylian Mbappe</td>\n",
       "      <td>PSG</td>\n",
       "      <td>2020</td>\n",
       "      <td>5</td>\n",
       "    </tr>\n",
       "    <tr>\n",
       "      <th>5</th>\n",
       "      <td>FourFourTwo</td>\n",
       "      <td>Harry Kane</td>\n",
       "      <td>Tottenham</td>\n",
       "      <td>2020</td>\n",
       "      <td>6</td>\n",
       "    </tr>\n",
       "    <tr>\n",
       "      <th>6</th>\n",
       "      <td>FourFourTwo</td>\n",
       "      <td>Erling Haaland</td>\n",
       "      <td>Borussia Dortmund</td>\n",
       "      <td>2020</td>\n",
       "      <td>7</td>\n",
       "    </tr>\n",
       "    <tr>\n",
       "      <th>7</th>\n",
       "      <td>FourFourTwo</td>\n",
       "      <td>Bruno Fernandes</td>\n",
       "      <td>Manchester United</td>\n",
       "      <td>2020</td>\n",
       "      <td>8</td>\n",
       "    </tr>\n",
       "    <tr>\n",
       "      <th>8</th>\n",
       "      <td>FourFourTwo</td>\n",
       "      <td>Romelu Lukaku</td>\n",
       "      <td>Inter Milan</td>\n",
       "      <td>2020</td>\n",
       "      <td>9</td>\n",
       "    </tr>\n",
       "    <tr>\n",
       "      <th>9</th>\n",
       "      <td>FourFourTwo</td>\n",
       "      <td>Cristiano Ronaldo</td>\n",
       "      <td>Juventus</td>\n",
       "      <td>2020</td>\n",
       "      <td>10</td>\n",
       "    </tr>\n",
       "  </tbody>\n",
       "</table>\n",
       "</div>"
      ],
      "text/plain": [
       "   Publication              Player               Club  Year  Rank\n",
       "0  FourFourTwo     Kevin De Bruyne    Manchester City  2020     1\n",
       "1  FourFourTwo        Lionel Messi          Barcelona  2020     2\n",
       "2  FourFourTwo  Robert Lewandowski      Bayern Munich  2020     3\n",
       "3  FourFourTwo              Neymar                PSG  2020     4\n",
       "4  FourFourTwo       Kylian Mbappe                PSG  2020     5\n",
       "5  FourFourTwo          Harry Kane          Tottenham  2020     6\n",
       "6  FourFourTwo      Erling Haaland  Borussia Dortmund  2020     7\n",
       "7  FourFourTwo     Bruno Fernandes  Manchester United  2020     8\n",
       "8  FourFourTwo       Romelu Lukaku        Inter Milan  2020     9\n",
       "9  FourFourTwo   Cristiano Ronaldo           Juventus  2020    10"
      ]
     },
     "execution_count": 4,
     "metadata": {},
     "output_type": "execute_result"
    }
   ],
   "source": [
    "import pandas as pd\n",
    "df = pd.read_csv(\"fourfourtwoguardiantop100.csv\")\n",
    "df.head(10)"
   ]
  },
  {
   "cell_type": "code",
   "execution_count": 5,
   "id": "004d5bc2",
   "metadata": {},
   "outputs": [
    {
     "name": "stdout",
     "output_type": "stream",
     "text": [
      "<class 'pandas.core.frame.DataFrame'>\n",
      "RangeIndex: 2250 entries, 0 to 2249\n",
      "Data columns (total 5 columns):\n",
      " #   Column       Non-Null Count  Dtype \n",
      "---  ------       --------------  ----- \n",
      " 0   Publication  2250 non-null   object\n",
      " 1   Player       2250 non-null   object\n",
      " 2   Club         2250 non-null   object\n",
      " 3   Year         2250 non-null   int64 \n",
      " 4   Rank         2250 non-null   int64 \n",
      "dtypes: int64(2), object(3)\n",
      "memory usage: 88.0+ KB\n"
     ]
    }
   ],
   "source": [
    "df.info()"
   ]
  },
  {
   "cell_type": "code",
   "execution_count": 6,
   "id": "5aa7e6c0",
   "metadata": {},
   "outputs": [
    {
     "data": {
      "text/html": [
       "<div>\n",
       "<style scoped>\n",
       "    .dataframe tbody tr th:only-of-type {\n",
       "        vertical-align: middle;\n",
       "    }\n",
       "\n",
       "    .dataframe tbody tr th {\n",
       "        vertical-align: top;\n",
       "    }\n",
       "\n",
       "    .dataframe thead th {\n",
       "        text-align: right;\n",
       "    }\n",
       "</style>\n",
       "<table border=\"1\" class=\"dataframe\">\n",
       "  <thead>\n",
       "    <tr style=\"text-align: right;\">\n",
       "      <th></th>\n",
       "      <th>Year</th>\n",
       "      <th>Rank</th>\n",
       "    </tr>\n",
       "  </thead>\n",
       "  <tbody>\n",
       "    <tr>\n",
       "      <th>count</th>\n",
       "      <td>2250.000000</td>\n",
       "      <td>2250.000000</td>\n",
       "    </tr>\n",
       "    <tr>\n",
       "      <th>mean</th>\n",
       "      <td>2014.355556</td>\n",
       "      <td>49.943556</td>\n",
       "    </tr>\n",
       "    <tr>\n",
       "      <th>std</th>\n",
       "      <td>3.689575</td>\n",
       "      <td>28.867091</td>\n",
       "    </tr>\n",
       "    <tr>\n",
       "      <th>min</th>\n",
       "      <td>2007.000000</td>\n",
       "      <td>1.000000</td>\n",
       "    </tr>\n",
       "    <tr>\n",
       "      <th>25%</th>\n",
       "      <td>2012.000000</td>\n",
       "      <td>25.000000</td>\n",
       "    </tr>\n",
       "    <tr>\n",
       "      <th>50%</th>\n",
       "      <td>2015.000000</td>\n",
       "      <td>49.000000</td>\n",
       "    </tr>\n",
       "    <tr>\n",
       "      <th>75%</th>\n",
       "      <td>2017.000000</td>\n",
       "      <td>75.000000</td>\n",
       "    </tr>\n",
       "    <tr>\n",
       "      <th>max</th>\n",
       "      <td>2020.000000</td>\n",
       "      <td>100.000000</td>\n",
       "    </tr>\n",
       "  </tbody>\n",
       "</table>\n",
       "</div>"
      ],
      "text/plain": [
       "              Year         Rank\n",
       "count  2250.000000  2250.000000\n",
       "mean   2014.355556    49.943556\n",
       "std       3.689575    28.867091\n",
       "min    2007.000000     1.000000\n",
       "25%    2012.000000    25.000000\n",
       "50%    2015.000000    49.000000\n",
       "75%    2017.000000    75.000000\n",
       "max    2020.000000   100.000000"
      ]
     },
     "execution_count": 6,
     "metadata": {},
     "output_type": "execute_result"
    }
   ],
   "source": [
    "df.describe()"
   ]
  },
  {
   "cell_type": "markdown",
   "id": "2b857d53",
   "metadata": {},
   "source": [
    "Description: Output descriptive statistics of the dataset (colomns: Year, Rank)."
   ]
  },
  {
   "cell_type": "markdown",
   "id": "8dec2c3b",
   "metadata": {},
   "source": [
    "#### "
   ]
  },
  {
   "cell_type": "code",
   "execution_count": 7,
   "id": "283c06dd",
   "metadata": {},
   "outputs": [
    {
     "data": {
      "text/plain": [
       "count      2250\n",
       "unique        2\n",
       "top       False\n",
       "freq       2027\n",
       "Name: Club, dtype: object"
      ]
     },
     "execution_count": 7,
     "metadata": {},
     "output_type": "execute_result"
    }
   ],
   "source": [
    "Barcelona = df['Club'] == 'Barcelona'\n",
    "Barcelona.describe()"
   ]
  },
  {
   "cell_type": "markdown",
   "id": "a1531463",
   "metadata": {},
   "source": [
    "Description: Output descriptive statistics of the dataset of Barcelona's players."
   ]
  },
  {
   "cell_type": "markdown",
   "id": "dd5531e6",
   "metadata": {},
   "source": [
    "### "
   ]
  },
  {
   "cell_type": "markdown",
   "id": "017b5f9b",
   "metadata": {},
   "source": [
    "### How many footballers have each publication noted?"
   ]
  },
  {
   "cell_type": "code",
   "execution_count": 8,
   "id": "0b64c746",
   "metadata": {},
   "outputs": [
    {
     "data": {
      "text/plain": [
       "FourFourTwo    1350\n",
       "Guardian        900\n",
       "Name: Publication, dtype: int64"
      ]
     },
     "execution_count": 8,
     "metadata": {},
     "output_type": "execute_result"
    }
   ],
   "source": [
    "df['Publication'].value_counts()"
   ]
  },
  {
   "cell_type": "code",
   "execution_count": 131,
   "id": "73d3b3cb",
   "metadata": {},
   "outputs": [
    {
     "data": {
      "text/plain": [
       "<BarContainer object of 2 artists>"
      ]
     },
     "execution_count": 131,
     "metadata": {},
     "output_type": "execute_result"
    },
    {
     "data": {
      "image/png": "[encoded data removed]",
      "text/plain": [
       "<Figure size 432x288 with 1 Axes>"
      ]
     },
     "metadata": {
      "needs_background": "light"
     },
     "output_type": "display_data"
    }
   ],
   "source": [
    "plt.title('The number of footballers from each publication')\n",
    "plt.bar(['FourFourTwo','Guardian'],\n",
    "        [len(df[df['Publication'] == 'FourFourTwo']),len(df[df['Publication'] == 'Guardian'])],\n",
    "        width = 0.4, color = 'y')"
   ]
  },
  {
   "cell_type": "markdown",
   "id": "a245c1b9",
   "metadata": {},
   "source": [
    "Description: The graph provides information about how many players were mentioned by each publication. \"FourFourTwo\" published slightly less that 1400, while \"Guardian\" published 900 footballers."
   ]
  },
  {
   "cell_type": "markdown",
   "id": "34ecdbbb",
   "metadata": {},
   "source": [
    "### "
   ]
  },
  {
   "cell_type": "markdown",
   "id": "1f99c44b",
   "metadata": {},
   "source": [
    "### How many footballers from each club have been posted?"
   ]
  },
  {
   "cell_type": "code",
   "execution_count": 22,
   "id": "5b35a833",
   "metadata": {},
   "outputs": [
    {
     "data": {
      "text/plain": [
       "Real Madrid             241\n",
       "Barcelona               223\n",
       "Bayern Munich           174\n",
       "Chelsea                 153\n",
       "Manchester City         142\n",
       "                       ... \n",
       "Guangzhou Evergrande      1\n",
       "Los Angeles Galaxy        1\n",
       "Real                      1\n",
       "Corinithians              1\n",
       "Stuttgart                 1\n",
       "Name: Club, Length: 131, dtype: int64"
      ]
     },
     "execution_count": 22,
     "metadata": {},
     "output_type": "execute_result"
    }
   ],
   "source": [
    "df['Club'].value_counts()"
   ]
  },
  {
   "cell_type": "markdown",
   "id": "e68d9911",
   "metadata": {},
   "source": [
    "### "
   ]
  },
  {
   "cell_type": "markdown",
   "id": "fdbcf183",
   "metadata": {},
   "source": [
    "### What's the most popular name among all footballers?"
   ]
  },
  {
   "cell_type": "code",
   "execution_count": 10,
   "id": "f02800c6",
   "metadata": {},
   "outputs": [
    {
     "name": "stdout",
     "output_type": "stream",
     "text": [
      "Sergio\n"
     ]
    }
   ],
   "source": [
    "def get_first_name(full_name):\n",
    "    first_name = full_name.split()[0]\n",
    "    return first_name\n",
    "\n",
    "names = df['Player'].apply(get_first_name)\n",
    "print(names.value_counts().index[0])"
   ]
  },
  {
   "cell_type": "markdown",
   "id": "1e7615e6",
   "metadata": {},
   "source": [
    "Description: it is not surprising that the name Sergio is the most common in the entire ranking. The Spanish Premier League (which includes a huge number of Spaniards) is one of the best in the world, which is why many players from this league often figure in the rankings of the best players. Moreover, Sergio is the most common Spanish name. Combining these two facts, we get the name Sergio as the most common in the entire ranking."
   ]
  },
  {
   "cell_type": "markdown",
   "id": "9d287dc8",
   "metadata": {},
   "source": [
    "##  "
   ]
  },
  {
   "cell_type": "markdown",
   "id": "382946c6",
   "metadata": {},
   "source": [
    "##### FC Barcelona has always been my favorite club, so most of the information will be related to this club."
   ]
  },
  {
   "cell_type": "markdown",
   "id": "4a3f75ea",
   "metadata": {},
   "source": [
    "### How many representatives of 'Barcelona' were in the top-100 footballers of the year in 2015? \n",
    "Note: Barcelona won the treble that year. It's the highest achievement for any football club, which includes winning three major tournaments of the season."
   ]
  },
  {
   "cell_type": "code",
   "execution_count": 11,
   "id": "d82d922c",
   "metadata": {},
   "outputs": [
    {
     "name": "stdout",
     "output_type": "stream",
     "text": [
      "The number of Barca players in 2015: 9\n"
     ]
    }
   ],
   "source": [
    "print('The number of Barca players in 2015:'\n",
    "      ,len(df[(df['Club'] == 'Barcelona') & (df['Year'] == 2015) & (df['Publication'] == 'FourFourTwo')].index))"
   ]
  },
  {
   "cell_type": "markdown",
   "id": "0bf9c3e0",
   "metadata": {},
   "source": [
    "### "
   ]
  },
  {
   "cell_type": "markdown",
   "id": "7e9cb731",
   "metadata": {},
   "source": [
    "### Compare the percentage of ranked players from the winning and losing teams in the Champions League final from 2012 to 2020."
   ]
  },
  {
   "cell_type": "markdown",
   "id": "ee8e7769",
   "metadata": {},
   "source": [
    "Note: (The \"Winner\" array's element [i]) contains the club that won the (Finalist [i]) in (Years [i]) in the tournament.\n",
    "The output contains 2 columns: winners and finalists. The columns contain the percentage of Champions League winners and finalists out of 100 ranked players in a given year."
   ]
  },
  {
   "cell_type": "code",
   "execution_count": 12,
   "id": "dfac7a16",
   "metadata": {},
   "outputs": [
    {
     "data": {
      "text/html": [
       "<div>\n",
       "<style scoped>\n",
       "    .dataframe tbody tr th:only-of-type {\n",
       "        vertical-align: middle;\n",
       "    }\n",
       "\n",
       "    .dataframe tbody tr th {\n",
       "        vertical-align: top;\n",
       "    }\n",
       "\n",
       "    .dataframe thead th {\n",
       "        text-align: right;\n",
       "    }\n",
       "</style>\n",
       "<table border=\"1\" class=\"dataframe\">\n",
       "  <thead>\n",
       "    <tr style=\"text-align: right;\">\n",
       "      <th></th>\n",
       "      <th>Winner</th>\n",
       "      <th>Finalist</th>\n",
       "    </tr>\n",
       "  </thead>\n",
       "  <tbody>\n",
       "    <tr>\n",
       "      <th>2012</th>\n",
       "      <td>7</td>\n",
       "      <td>9</td>\n",
       "    </tr>\n",
       "    <tr>\n",
       "      <th>2013</th>\n",
       "      <td>12</td>\n",
       "      <td>8</td>\n",
       "    </tr>\n",
       "    <tr>\n",
       "      <th>2014</th>\n",
       "      <td>11</td>\n",
       "      <td>6</td>\n",
       "    </tr>\n",
       "    <tr>\n",
       "      <th>2015</th>\n",
       "      <td>9</td>\n",
       "      <td>7</td>\n",
       "    </tr>\n",
       "    <tr>\n",
       "      <th>2016</th>\n",
       "      <td>11</td>\n",
       "      <td>6</td>\n",
       "    </tr>\n",
       "    <tr>\n",
       "      <th>2017</th>\n",
       "      <td>14</td>\n",
       "      <td>6</td>\n",
       "    </tr>\n",
       "    <tr>\n",
       "      <th>2018</th>\n",
       "      <td>11</td>\n",
       "      <td>6</td>\n",
       "    </tr>\n",
       "    <tr>\n",
       "      <th>2019</th>\n",
       "      <td>9</td>\n",
       "      <td>5</td>\n",
       "    </tr>\n",
       "    <tr>\n",
       "      <th>2020</th>\n",
       "      <td>7</td>\n",
       "      <td>4</td>\n",
       "    </tr>\n",
       "  </tbody>\n",
       "</table>\n",
       "</div>"
      ],
      "text/plain": [
       "      Winner  Finalist\n",
       "2012       7         9\n",
       "2013      12         8\n",
       "2014      11         6\n",
       "2015       9         7\n",
       "2016      11         6\n",
       "2017      14         6\n",
       "2018      11         6\n",
       "2019       9         5\n",
       "2020       7         4"
      ]
     },
     "execution_count": 12,
     "metadata": {},
     "output_type": "execute_result"
    }
   ],
   "source": [
    "Winner = ['Chelsea','Bayern Munich','Real Madrid','Barcelona','Real Madrid','Real Madrid','Real Madrid','Liverpool','Bayern Munich']\n",
    "Finalist = ['Bayern Munich','Borussia Dortmund','Atletico Madrid','Juventus','Atletico Madrid','Juventus','Liverpool','Tottenham Hotspur','PSG']\n",
    "Years = [2012,2013,2014,2015,2016,2017,2018,2019,2020]\n",
    "\n",
    "won = []\n",
    "lost = []\n",
    "\n",
    "for i in range(len(Years)):\n",
    "    won.append(len(df[(df['Club'] == Winner[i]) & \n",
    "                          (df['Year'] == Years[i]) & \n",
    "                          (df['Publication'] == 'FourFourTwo')].index))\n",
    "    \n",
    "    lost.append(len(df[(df['Club'] == Finalist[i]) & \n",
    "                          (df['Year'] == Years[i]) & \n",
    "                          (df['Publication'] == 'FourFourTwo')].index))\n",
    "\n",
    "dataFrame = pd.DataFrame(\n",
    "    {'Winner': won, 'Finalist': lost}, index=Years\n",
    ")\n",
    "dataFrame"
   ]
  },
  {
   "cell_type": "markdown",
   "id": "bcbd20e9",
   "metadata": {},
   "source": [
    "Description: For instance, let's look at the first row. The output shows that in 2012 there were 7 out of 100 ranked footballers from the winning team, this means 7%, the same thing with the finalists, 9% ranked players."
   ]
  },
  {
   "cell_type": "markdown",
   "id": "364896e1",
   "metadata": {},
   "source": [
    "### "
   ]
  },
  {
   "cell_type": "code",
   "execution_count": 13,
   "id": "15a94bd3",
   "metadata": {},
   "outputs": [
    {
     "data": {
      "text/html": [
       "<div>\n",
       "<style scoped>\n",
       "    .dataframe tbody tr th:only-of-type {\n",
       "        vertical-align: middle;\n",
       "    }\n",
       "\n",
       "    .dataframe tbody tr th {\n",
       "        vertical-align: top;\n",
       "    }\n",
       "\n",
       "    .dataframe thead th {\n",
       "        text-align: right;\n",
       "    }\n",
       "</style>\n",
       "<table border=\"1\" class=\"dataframe\">\n",
       "  <thead>\n",
       "    <tr style=\"text-align: right;\">\n",
       "      <th></th>\n",
       "      <th>Winner</th>\n",
       "      <th>Finalist</th>\n",
       "    </tr>\n",
       "  </thead>\n",
       "  <tbody>\n",
       "    <tr>\n",
       "      <th>count</th>\n",
       "      <td>9.000000</td>\n",
       "      <td>9.000000</td>\n",
       "    </tr>\n",
       "    <tr>\n",
       "      <th>mean</th>\n",
       "      <td>10.111111</td>\n",
       "      <td>6.333333</td>\n",
       "    </tr>\n",
       "    <tr>\n",
       "      <th>std</th>\n",
       "      <td>2.315407</td>\n",
       "      <td>1.500000</td>\n",
       "    </tr>\n",
       "    <tr>\n",
       "      <th>min</th>\n",
       "      <td>7.000000</td>\n",
       "      <td>4.000000</td>\n",
       "    </tr>\n",
       "    <tr>\n",
       "      <th>25%</th>\n",
       "      <td>9.000000</td>\n",
       "      <td>6.000000</td>\n",
       "    </tr>\n",
       "    <tr>\n",
       "      <th>50%</th>\n",
       "      <td>11.000000</td>\n",
       "      <td>6.000000</td>\n",
       "    </tr>\n",
       "    <tr>\n",
       "      <th>75%</th>\n",
       "      <td>11.000000</td>\n",
       "      <td>7.000000</td>\n",
       "    </tr>\n",
       "    <tr>\n",
       "      <th>max</th>\n",
       "      <td>14.000000</td>\n",
       "      <td>9.000000</td>\n",
       "    </tr>\n",
       "  </tbody>\n",
       "</table>\n",
       "</div>"
      ],
      "text/plain": [
       "          Winner  Finalist\n",
       "count   9.000000  9.000000\n",
       "mean   10.111111  6.333333\n",
       "std     2.315407  1.500000\n",
       "min     7.000000  4.000000\n",
       "25%     9.000000  6.000000\n",
       "50%    11.000000  6.000000\n",
       "75%    11.000000  7.000000\n",
       "max    14.000000  9.000000"
      ]
     },
     "execution_count": 13,
     "metadata": {},
     "output_type": "execute_result"
    }
   ],
   "source": [
    "dataFrame.describe()"
   ]
  },
  {
   "cell_type": "markdown",
   "id": "14cb4498",
   "metadata": {},
   "source": [
    "Description: Output descriptive statistics of the dataset."
   ]
  },
  {
   "cell_type": "markdown",
   "id": "acd206f5",
   "metadata": {},
   "source": [
    "#### Show data from dataFrame using graph."
   ]
  },
  {
   "cell_type": "code",
   "execution_count": 84,
   "id": "9c60b089",
   "metadata": {},
   "outputs": [
    {
     "data": {
      "image/png": "[encoded data removed]",
      "text/plain": [
       "<Figure size 432x288 with 1 Axes>"
      ]
     },
     "metadata": {
      "needs_background": "light"
     },
     "output_type": "display_data"
    },
    {
     "data": {
      "image/png": "[encoded data removed]",
      "text/plain": [
       "<Figure size 432x288 with 1 Axes>"
      ]
     },
     "metadata": {
      "needs_background": "light"
     },
     "output_type": "display_data"
    }
   ],
   "source": [
    "from statistics import mean \n",
    "\n",
    "\n",
    "# General Graph\n",
    "plt.plot(Years, won, label = 'Winner', color = 'g')\n",
    "plt.plot(Years, lost, label = 'Finalist', color = 'r')\n",
    "\n",
    "plt.title('FourFourTwo General')\n",
    "plt.xlabel('Year')\n",
    "plt.ylabel('Percentage out of 100%')\n",
    "plt.ylim(0,100)\n",
    "plt.legend()\n",
    "plt.show()\n",
    "\n",
    "# More Details\n",
    "plt.plot(Years, won, label = 'Winner', color = 'g')\n",
    "plt.axhline(y=mean(won), color='g', linestyle='--', label = 'Winners Mean')\n",
    "\n",
    "plt.plot(Years, lost, label = 'Finalist', color = 'r')\n",
    "plt.axhline(y=mean(lost), color='r', linestyle='--', label = 'Finalists Mean')\n",
    "plt.legend()\n",
    "\n",
    "plt.title('FourFourTwo Particular')\n",
    "plt.xlabel('Year')\n",
    "plt.ylabel('Percentage out of 100%')\n",
    "plt.legend()\n",
    "plt.show()"
   ]
  },
  {
   "cell_type": "markdown",
   "id": "bbebf295",
   "metadata": {},
   "source": [
    "## "
   ]
  },
  {
   "cell_type": "markdown",
   "id": "be8e837f",
   "metadata": {},
   "source": [
    "### Illustrate the changes in the number of clubs in the rankings each year between 2007 and 2020."
   ]
  },
  {
   "cell_type": "code",
   "execution_count": 96,
   "id": "91ff6b48",
   "metadata": {},
   "outputs": [
    {
     "data": {
      "text/html": [
       "<div>\n",
       "<style scoped>\n",
       "    .dataframe tbody tr th:only-of-type {\n",
       "        vertical-align: middle;\n",
       "    }\n",
       "\n",
       "    .dataframe tbody tr th {\n",
       "        vertical-align: top;\n",
       "    }\n",
       "\n",
       "    .dataframe thead th {\n",
       "        text-align: right;\n",
       "    }\n",
       "</style>\n",
       "<table border=\"1\" class=\"dataframe\">\n",
       "  <thead>\n",
       "    <tr style=\"text-align: right;\">\n",
       "      <th></th>\n",
       "      <th>Number of clubs</th>\n",
       "    </tr>\n",
       "  </thead>\n",
       "  <tbody>\n",
       "    <tr>\n",
       "      <th>2007</th>\n",
       "      <td>30</td>\n",
       "    </tr>\n",
       "    <tr>\n",
       "      <th>2008</th>\n",
       "      <td>30</td>\n",
       "    </tr>\n",
       "    <tr>\n",
       "      <th>2009</th>\n",
       "      <td>26</td>\n",
       "    </tr>\n",
       "    <tr>\n",
       "      <th>2010</th>\n",
       "      <td>28</td>\n",
       "    </tr>\n",
       "    <tr>\n",
       "      <th>2011</th>\n",
       "      <td>30</td>\n",
       "    </tr>\n",
       "    <tr>\n",
       "      <th>2012</th>\n",
       "      <td>51</td>\n",
       "    </tr>\n",
       "    <tr>\n",
       "      <th>2013</th>\n",
       "      <td>38</td>\n",
       "    </tr>\n",
       "    <tr>\n",
       "      <th>2014</th>\n",
       "      <td>34</td>\n",
       "    </tr>\n",
       "    <tr>\n",
       "      <th>2015</th>\n",
       "      <td>44</td>\n",
       "    </tr>\n",
       "    <tr>\n",
       "      <th>2016</th>\n",
       "      <td>36</td>\n",
       "    </tr>\n",
       "    <tr>\n",
       "      <th>2017</th>\n",
       "      <td>28</td>\n",
       "    </tr>\n",
       "    <tr>\n",
       "      <th>2018</th>\n",
       "      <td>34</td>\n",
       "    </tr>\n",
       "    <tr>\n",
       "      <th>2019</th>\n",
       "      <td>38</td>\n",
       "    </tr>\n",
       "    <tr>\n",
       "      <th>2020</th>\n",
       "      <td>33</td>\n",
       "    </tr>\n",
       "  </tbody>\n",
       "</table>\n",
       "</div>"
      ],
      "text/plain": [
       "      Number of clubs\n",
       "2007               30\n",
       "2008               30\n",
       "2009               26\n",
       "2010               28\n",
       "2011               30\n",
       "2012               51\n",
       "2013               38\n",
       "2014               34\n",
       "2015               44\n",
       "2016               36\n",
       "2017               28\n",
       "2018               34\n",
       "2019               38\n",
       "2020               33"
      ]
     },
     "execution_count": 96,
     "metadata": {},
     "output_type": "execute_result"
    }
   ],
   "source": [
    "years = sorted(list(set(df['Year'])))\n",
    "clubs_number =[]\n",
    "\n",
    "for i in range(len(years)):\n",
    "    clubs_number.append((len(set(df['Club'][(df['Year'] == years[i])]))))\n",
    "    \n",
    "dataFrame = pd.DataFrame({'Number of clubs':clubs_number}, index=years)\n",
    "dataFrame"
   ]
  },
  {
   "cell_type": "code",
   "execution_count": 97,
   "id": "319cffd3",
   "metadata": {},
   "outputs": [
    {
     "data": {
      "text/html": [
       "<div>\n",
       "<style scoped>\n",
       "    .dataframe tbody tr th:only-of-type {\n",
       "        vertical-align: middle;\n",
       "    }\n",
       "\n",
       "    .dataframe tbody tr th {\n",
       "        vertical-align: top;\n",
       "    }\n",
       "\n",
       "    .dataframe thead th {\n",
       "        text-align: right;\n",
       "    }\n",
       "</style>\n",
       "<table border=\"1\" class=\"dataframe\">\n",
       "  <thead>\n",
       "    <tr style=\"text-align: right;\">\n",
       "      <th></th>\n",
       "      <th>Number of clubs</th>\n",
       "    </tr>\n",
       "  </thead>\n",
       "  <tbody>\n",
       "    <tr>\n",
       "      <th>count</th>\n",
       "      <td>14.000000</td>\n",
       "    </tr>\n",
       "    <tr>\n",
       "      <th>mean</th>\n",
       "      <td>34.285714</td>\n",
       "    </tr>\n",
       "    <tr>\n",
       "      <th>std</th>\n",
       "      <td>6.843622</td>\n",
       "    </tr>\n",
       "    <tr>\n",
       "      <th>min</th>\n",
       "      <td>26.000000</td>\n",
       "    </tr>\n",
       "    <tr>\n",
       "      <th>25%</th>\n",
       "      <td>30.000000</td>\n",
       "    </tr>\n",
       "    <tr>\n",
       "      <th>50%</th>\n",
       "      <td>33.500000</td>\n",
       "    </tr>\n",
       "    <tr>\n",
       "      <th>75%</th>\n",
       "      <td>37.500000</td>\n",
       "    </tr>\n",
       "    <tr>\n",
       "      <th>max</th>\n",
       "      <td>51.000000</td>\n",
       "    </tr>\n",
       "  </tbody>\n",
       "</table>\n",
       "</div>"
      ],
      "text/plain": [
       "       Number of clubs\n",
       "count        14.000000\n",
       "mean         34.285714\n",
       "std           6.843622\n",
       "min          26.000000\n",
       "25%          30.000000\n",
       "50%          33.500000\n",
       "75%          37.500000\n",
       "max          51.000000"
      ]
     },
     "execution_count": 97,
     "metadata": {},
     "output_type": "execute_result"
    }
   ],
   "source": [
    "dataFrame.describe()"
   ]
  },
  {
   "cell_type": "markdown",
   "id": "5db640be",
   "metadata": {},
   "source": [
    "Description: Output descriptive statistics of the dataset."
   ]
  },
  {
   "cell_type": "markdown",
   "id": "751ecf1e",
   "metadata": {},
   "source": [
    "#### Show data using graph."
   ]
  },
  {
   "cell_type": "code",
   "execution_count": 136,
   "id": "444ae9ce",
   "metadata": {},
   "outputs": [
    {
     "data": {
      "text/plain": [
       "[<matplotlib.lines.Line2D at 0x121244c70>]"
      ]
     },
     "execution_count": 136,
     "metadata": {},
     "output_type": "execute_result"
    },
    {
     "data": {
      "image/png": "[encoded data removed]",
      "text/plain": [
       "<Figure size 432x288 with 1 Axes>"
      ]
     },
     "metadata": {
      "needs_background": "light"
     },
     "output_type": "display_data"
    }
   ],
   "source": [
    "plt.title('Number of clubs in the rank each year')\n",
    "plt.plot(years, clubs_number,'co-')"
   ]
  },
  {
   "cell_type": "markdown",
   "id": "45d2d354",
   "metadata": {},
   "source": [
    "Description: on this graph you can see a number of clubs in the rank each year from 2007 to 2020. In 2007 there were 30 different clubs presented in the rank from dataset. The peak was at 51 different clubs in 2012. In 2020 there were 33 clubs."
   ]
  },
  {
   "cell_type": "markdown",
   "id": "27bc634e",
   "metadata": {},
   "source": [
    "### "
   ]
  },
  {
   "cell_type": "markdown",
   "id": "c9f023f8",
   "metadata": {},
   "source": [
    "### Present the players who took 1st Rank in the period between 2007 to 2020. If the player meets several times, output the number of his awards. (Data should be different for each publication.)"
   ]
  },
  {
   "cell_type": "code",
   "execution_count": 15,
   "id": "52c26815",
   "metadata": {},
   "outputs": [],
   "source": [
    "best_FourFourTwo = []\n",
    "best_Guardian = []\n",
    "\n",
    "for current in range(2007,2021):\n",
    "    FourFourTwo = df['Player'][(df['Rank'] == 1) & (df['Year'] == current) & (df['Publication'] == 'FourFourTwo')]\n",
    "    best_FourFourTwo.append(*FourFourTwo)\n",
    "\n",
    "for current in range(2012,2021):\n",
    "    Guardian = df['Player'][(df['Rank'] == 1) & (df['Year'] == current) & (df['Publication'] == 'Guardian')]\n",
    "    best_Guardian.append(*Guardian)\n",
    "\n",
    "from collections import Counter, defaultdict\n",
    "best_442 = Counter(best_FourFourTwo)\n",
    "best_Guard = Counter(best_Guardian)"
   ]
  },
  {
   "cell_type": "markdown",
   "id": "44b53e18",
   "metadata": {},
   "source": [
    "#### Show data using graph."
   ]
  },
  {
   "cell_type": "code",
   "execution_count": 16,
   "id": "4a75e791",
   "metadata": {},
   "outputs": [
    {
     "data": {
      "image/png": "[encoded data removed]",
      "text/plain": [
       "<Figure size 432x288 with 1 Axes>"
      ]
     },
     "metadata": {
      "needs_background": "light"
     },
     "output_type": "display_data"
    }
   ],
   "source": [
    "df1=pd.DataFrame({'Number of \"Golden Ball\" Awards': best_442.values(),'Player':best_442.keys()})\n",
    "df2=pd.DataFrame({'Number of \"Golden Ball\" Awards': best_Guard.values(),'Player':best_Guard.keys()})\n",
    "df1['Publication']='FourFourTwo'\n",
    "df2['Publication']='Guardian'\n",
    "res=pd.concat([df1,df2])\n",
    "plt.title('Top players of the seasons 2007 to 2020 & The number of their awards')\n",
    "sns.barplot(x='Number of \"Golden Ball\" Awards',y='Player',data=res,hue='Publication')\n",
    "plt.show()"
   ]
  },
  {
   "cell_type": "markdown",
   "id": "2c1140d1",
   "metadata": {},
   "source": [
    "Describtion: this graph provides data that we can claim that Messi has been the best player since 2007, because he has more \"Golden Ball\" Awards than others."
   ]
  },
  {
   "cell_type": "markdown",
   "id": "91f6ff12",
   "metadata": {},
   "source": [
    "### "
   ]
  },
  {
   "cell_type": "markdown",
   "id": "f2b48c4f",
   "metadata": {},
   "source": [
    "### Display the percentage of players for each club in the ranking. Show data using a pie chart."
   ]
  },
  {
   "cell_type": "code",
   "execution_count": 17,
   "id": "c123206c",
   "metadata": {},
   "outputs": [
    {
     "data": {
      "text/plain": [
       "Real Madrid             241\n",
       "Barcelona               223\n",
       "Bayern Munich           174\n",
       "Chelsea                 153\n",
       "Manchester City         142\n",
       "                       ... \n",
       "Guangzhou Evergrande      1\n",
       "Los Angeles Galaxy        1\n",
       "Real                      1\n",
       "Corinithians              1\n",
       "Stuttgart                 1\n",
       "Name: Club, Length: 131, dtype: int64"
      ]
     },
     "execution_count": 17,
     "metadata": {},
     "output_type": "execute_result"
    }
   ],
   "source": [
    "from collections import Counter, defaultdict\n",
    "df['Club'].value_counts() \n"
   ]
  },
  {
   "cell_type": "code",
   "execution_count": 18,
   "id": "a5bdad3d",
   "metadata": {},
   "outputs": [],
   "source": [
    "from collections import Counter, defaultdict\n",
    "number = []\n",
    "clubs = []\n",
    "others =0\n",
    "\n",
    "number_clubs = dict(Counter(df['Club'].to_numpy()))\n",
    "\n",
    "for item in number_clubs.items():\n",
    "        if item[1] > 50:\n",
    "            clubs.append(item[0])\n",
    "            number.append(item[1])\n",
    "        else:\n",
    "            others += item[1]\n",
    "            \n",
    "clubs.append('Other Clubs')\n",
    "number.append(others)\n",
    "\n",
    "df3=pd.DataFrame({'Clubs': clubs,'Number':number})"
   ]
  },
  {
   "cell_type": "code",
   "execution_count": 21,
   "id": "e7fbfc57",
   "metadata": {},
   "outputs": [
    {
     "data": {
      "text/plain": [
       "<matplotlib.legend.Legend at 0x11de61760>"
      ]
     },
     "execution_count": 21,
     "metadata": {},
     "output_type": "execute_result"
    },
    {
     "data": {
      "image/png": "[encoded data removed]",
      "text/plain": [
       "<Figure size 864x576 with 1 Axes>"
      ]
     },
     "metadata": {},
     "output_type": "display_data"
    }
   ],
   "source": [
    "my_labels = df3['Clubs']\n",
    "ax = df3['Number'].plot(kind='pie', figsize=(12,8), autopct='%1.1f%%', labels=None)\n",
    "plt.legend(loc=1, labels=my_labels)"
   ]
  },
  {
   "cell_type": "markdown",
   "id": "3fbb73a9",
   "metadata": {},
   "source": [
    "Description: This pie chart shows the number of representatives for each club. If there are less than 50 representatives in the entire rating, then the club is not shown and is included in the \"Other Clubs\" sector."
   ]
  }
 ],
 "metadata": {
  "kernelspec": {
   "display_name": "Python 3",
   "language": "python",
   "name": "python3"
  },
  "language_info": {
   "codemirror_mode": {
    "name": "ipython",
    "version": 3
   },
   "file_extension": ".py",
   "mimetype": "text/x-python",
   "name": "python",
   "nbconvert_exporter": "python",
   "pygments_lexer": "ipython3",
   "version": "3.8.8"
  }
 },
 "nbformat": 4,
 "nbformat_minor": 5
}
